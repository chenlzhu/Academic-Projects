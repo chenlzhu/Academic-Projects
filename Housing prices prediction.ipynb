{
 "cells": [
  {
   "cell_type": "code",
   "execution_count": 54,
   "id": "008c2a1b",
   "metadata": {},
   "outputs": [],
   "source": [
    "import warnings\n",
    "warnings.filterwarnings('ignore')"
   ]
  },
  {
   "cell_type": "code",
   "execution_count": 55,
   "id": "20df02b6",
   "metadata": {},
   "outputs": [],
   "source": [
    "import pandas as pd"
   ]
  },
  {
   "cell_type": "code",
   "execution_count": 56,
   "id": "01c1a759",
   "metadata": {},
   "outputs": [],
   "source": [
    "data = pd.read_csv(\"Housing.csv\")"
   ]
  },
  {
   "cell_type": "code",
   "execution_count": 57,
   "id": "9a3744e3",
   "metadata": {},
   "outputs": [
    {
     "data": {
      "text/html": [
       "<div>\n",
       "<style scoped>\n",
       "    .dataframe tbody tr th:only-of-type {\n",
       "        vertical-align: middle;\n",
       "    }\n",
       "\n",
       "    .dataframe tbody tr th {\n",
       "        vertical-align: top;\n",
       "    }\n",
       "\n",
       "    .dataframe thead th {\n",
       "        text-align: right;\n",
       "    }\n",
       "</style>\n",
       "<table border=\"1\" class=\"dataframe\">\n",
       "  <thead>\n",
       "    <tr style=\"text-align: right;\">\n",
       "      <th></th>\n",
       "      <th>price</th>\n",
       "      <th>area</th>\n",
       "      <th>bedrooms</th>\n",
       "      <th>bathrooms</th>\n",
       "      <th>stories</th>\n",
       "      <th>mainroad</th>\n",
       "      <th>guestroom</th>\n",
       "      <th>basement</th>\n",
       "      <th>hotwaterheating</th>\n",
       "      <th>airconditioning</th>\n",
       "      <th>parking</th>\n",
       "      <th>prefarea</th>\n",
       "      <th>furnishingstatus</th>\n",
       "    </tr>\n",
       "  </thead>\n",
       "  <tbody>\n",
       "    <tr>\n",
       "      <th>0</th>\n",
       "      <td>13300000</td>\n",
       "      <td>7420</td>\n",
       "      <td>4</td>\n",
       "      <td>2</td>\n",
       "      <td>3</td>\n",
       "      <td>yes</td>\n",
       "      <td>no</td>\n",
       "      <td>no</td>\n",
       "      <td>no</td>\n",
       "      <td>yes</td>\n",
       "      <td>2</td>\n",
       "      <td>yes</td>\n",
       "      <td>furnished</td>\n",
       "    </tr>\n",
       "    <tr>\n",
       "      <th>1</th>\n",
       "      <td>12250000</td>\n",
       "      <td>8960</td>\n",
       "      <td>4</td>\n",
       "      <td>4</td>\n",
       "      <td>4</td>\n",
       "      <td>yes</td>\n",
       "      <td>no</td>\n",
       "      <td>no</td>\n",
       "      <td>no</td>\n",
       "      <td>yes</td>\n",
       "      <td>3</td>\n",
       "      <td>no</td>\n",
       "      <td>furnished</td>\n",
       "    </tr>\n",
       "    <tr>\n",
       "      <th>2</th>\n",
       "      <td>12250000</td>\n",
       "      <td>9960</td>\n",
       "      <td>3</td>\n",
       "      <td>2</td>\n",
       "      <td>2</td>\n",
       "      <td>yes</td>\n",
       "      <td>no</td>\n",
       "      <td>yes</td>\n",
       "      <td>no</td>\n",
       "      <td>no</td>\n",
       "      <td>2</td>\n",
       "      <td>yes</td>\n",
       "      <td>semi-furnished</td>\n",
       "    </tr>\n",
       "    <tr>\n",
       "      <th>3</th>\n",
       "      <td>12215000</td>\n",
       "      <td>7500</td>\n",
       "      <td>4</td>\n",
       "      <td>2</td>\n",
       "      <td>2</td>\n",
       "      <td>yes</td>\n",
       "      <td>no</td>\n",
       "      <td>yes</td>\n",
       "      <td>no</td>\n",
       "      <td>yes</td>\n",
       "      <td>3</td>\n",
       "      <td>yes</td>\n",
       "      <td>furnished</td>\n",
       "    </tr>\n",
       "    <tr>\n",
       "      <th>4</th>\n",
       "      <td>11410000</td>\n",
       "      <td>7420</td>\n",
       "      <td>4</td>\n",
       "      <td>1</td>\n",
       "      <td>2</td>\n",
       "      <td>yes</td>\n",
       "      <td>yes</td>\n",
       "      <td>yes</td>\n",
       "      <td>no</td>\n",
       "      <td>yes</td>\n",
       "      <td>2</td>\n",
       "      <td>no</td>\n",
       "      <td>furnished</td>\n",
       "    </tr>\n",
       "  </tbody>\n",
       "</table>\n",
       "</div>"
      ],
      "text/plain": [
       "      price  area  bedrooms  bathrooms  stories mainroad guestroom basement  \\\n",
       "0  13300000  7420         4          2        3      yes        no       no   \n",
       "1  12250000  8960         4          4        4      yes        no       no   \n",
       "2  12250000  9960         3          2        2      yes        no      yes   \n",
       "3  12215000  7500         4          2        2      yes        no      yes   \n",
       "4  11410000  7420         4          1        2      yes       yes      yes   \n",
       "\n",
       "  hotwaterheating airconditioning  parking prefarea furnishingstatus  \n",
       "0              no             yes        2      yes        furnished  \n",
       "1              no             yes        3       no        furnished  \n",
       "2              no              no        2      yes   semi-furnished  \n",
       "3              no             yes        3      yes        furnished  \n",
       "4              no             yes        2       no        furnished  "
      ]
     },
     "execution_count": 57,
     "metadata": {},
     "output_type": "execute_result"
    }
   ],
   "source": [
    "data.head()"
   ]
  },
  {
   "cell_type": "code",
   "execution_count": 58,
   "id": "67c89375",
   "metadata": {},
   "outputs": [],
   "source": [
    "data.loc[data[\"mainroad\"]==\"yes\", \"mainroad\"] = 1\n",
    "data.loc[data[\"mainroad\"]==\"no\", \"mainroad\"] = 0\n",
    "data.loc[data[\"guestroom\"]==\"yes\", \"guestroom\"] = 1\n",
    "data.loc[data[\"guestroom\"]==\"no\", \"guestroom\"] = 0\n",
    "data.loc[data[\"basement\"]==\"yes\", \"basement\"] = 1\n",
    "data.loc[data[\"basement\"]==\"no\", \"basement\"] = 0\n",
    "data.loc[data[\"hotwaterheating\"]==\"yes\", \"hotwaterheating\"] = 1\n",
    "data.loc[data[\"hotwaterheating\"]==\"no\", \"hotwaterheating\"] = 0\n",
    "data.loc[data[\"airconditioning\"]==\"yes\", \"airconditioning\"] = 1\n",
    "data.loc[data[\"airconditioning\"]==\"no\", \"airconditioning\"] = 0\n",
    "data.loc[data[\"prefarea\"]==\"yes\", \"prefarea\"] = 1\n",
    "data.loc[data[\"prefarea\"]==\"no\", \"prefarea\"] = 0\n",
    "data.loc[data[\"furnishingstatus\"]==\"furnished\", \"furnishingstatus\"] = 2\n",
    "data.loc[data[\"furnishingstatus\"]==\"semi-furnished\", \"furnishingstatus\"] = 1\n",
    "data.loc[data[\"furnishingstatus\"]==\"unfurnished\", \"furnishingstatus\"] = 0"
   ]
  },
  {
   "cell_type": "code",
   "execution_count": 59,
   "id": "bfb7a16c",
   "metadata": {
    "scrolled": true
   },
   "outputs": [
    {
     "data": {
      "text/html": [
       "<div>\n",
       "<style scoped>\n",
       "    .dataframe tbody tr th:only-of-type {\n",
       "        vertical-align: middle;\n",
       "    }\n",
       "\n",
       "    .dataframe tbody tr th {\n",
       "        vertical-align: top;\n",
       "    }\n",
       "\n",
       "    .dataframe thead th {\n",
       "        text-align: right;\n",
       "    }\n",
       "</style>\n",
       "<table border=\"1\" class=\"dataframe\">\n",
       "  <thead>\n",
       "    <tr style=\"text-align: right;\">\n",
       "      <th></th>\n",
       "      <th>price</th>\n",
       "      <th>area</th>\n",
       "      <th>bedrooms</th>\n",
       "      <th>bathrooms</th>\n",
       "      <th>stories</th>\n",
       "      <th>mainroad</th>\n",
       "      <th>guestroom</th>\n",
       "      <th>basement</th>\n",
       "      <th>hotwaterheating</th>\n",
       "      <th>airconditioning</th>\n",
       "      <th>parking</th>\n",
       "      <th>prefarea</th>\n",
       "      <th>furnishingstatus</th>\n",
       "    </tr>\n",
       "  </thead>\n",
       "  <tbody>\n",
       "    <tr>\n",
       "      <th>0</th>\n",
       "      <td>13300000</td>\n",
       "      <td>7420</td>\n",
       "      <td>4</td>\n",
       "      <td>2</td>\n",
       "      <td>3</td>\n",
       "      <td>1</td>\n",
       "      <td>0</td>\n",
       "      <td>0</td>\n",
       "      <td>0</td>\n",
       "      <td>1</td>\n",
       "      <td>2</td>\n",
       "      <td>1</td>\n",
       "      <td>2</td>\n",
       "    </tr>\n",
       "    <tr>\n",
       "      <th>1</th>\n",
       "      <td>12250000</td>\n",
       "      <td>8960</td>\n",
       "      <td>4</td>\n",
       "      <td>4</td>\n",
       "      <td>4</td>\n",
       "      <td>1</td>\n",
       "      <td>0</td>\n",
       "      <td>0</td>\n",
       "      <td>0</td>\n",
       "      <td>1</td>\n",
       "      <td>3</td>\n",
       "      <td>0</td>\n",
       "      <td>2</td>\n",
       "    </tr>\n",
       "    <tr>\n",
       "      <th>2</th>\n",
       "      <td>12250000</td>\n",
       "      <td>9960</td>\n",
       "      <td>3</td>\n",
       "      <td>2</td>\n",
       "      <td>2</td>\n",
       "      <td>1</td>\n",
       "      <td>0</td>\n",
       "      <td>1</td>\n",
       "      <td>0</td>\n",
       "      <td>0</td>\n",
       "      <td>2</td>\n",
       "      <td>1</td>\n",
       "      <td>1</td>\n",
       "    </tr>\n",
       "    <tr>\n",
       "      <th>3</th>\n",
       "      <td>12215000</td>\n",
       "      <td>7500</td>\n",
       "      <td>4</td>\n",
       "      <td>2</td>\n",
       "      <td>2</td>\n",
       "      <td>1</td>\n",
       "      <td>0</td>\n",
       "      <td>1</td>\n",
       "      <td>0</td>\n",
       "      <td>1</td>\n",
       "      <td>3</td>\n",
       "      <td>1</td>\n",
       "      <td>2</td>\n",
       "    </tr>\n",
       "    <tr>\n",
       "      <th>4</th>\n",
       "      <td>11410000</td>\n",
       "      <td>7420</td>\n",
       "      <td>4</td>\n",
       "      <td>1</td>\n",
       "      <td>2</td>\n",
       "      <td>1</td>\n",
       "      <td>1</td>\n",
       "      <td>1</td>\n",
       "      <td>0</td>\n",
       "      <td>1</td>\n",
       "      <td>2</td>\n",
       "      <td>0</td>\n",
       "      <td>2</td>\n",
       "    </tr>\n",
       "    <tr>\n",
       "      <th>...</th>\n",
       "      <td>...</td>\n",
       "      <td>...</td>\n",
       "      <td>...</td>\n",
       "      <td>...</td>\n",
       "      <td>...</td>\n",
       "      <td>...</td>\n",
       "      <td>...</td>\n",
       "      <td>...</td>\n",
       "      <td>...</td>\n",
       "      <td>...</td>\n",
       "      <td>...</td>\n",
       "      <td>...</td>\n",
       "      <td>...</td>\n",
       "    </tr>\n",
       "    <tr>\n",
       "      <th>540</th>\n",
       "      <td>1820000</td>\n",
       "      <td>3000</td>\n",
       "      <td>2</td>\n",
       "      <td>1</td>\n",
       "      <td>1</td>\n",
       "      <td>1</td>\n",
       "      <td>0</td>\n",
       "      <td>1</td>\n",
       "      <td>0</td>\n",
       "      <td>0</td>\n",
       "      <td>2</td>\n",
       "      <td>0</td>\n",
       "      <td>0</td>\n",
       "    </tr>\n",
       "    <tr>\n",
       "      <th>541</th>\n",
       "      <td>1767150</td>\n",
       "      <td>2400</td>\n",
       "      <td>3</td>\n",
       "      <td>1</td>\n",
       "      <td>1</td>\n",
       "      <td>0</td>\n",
       "      <td>0</td>\n",
       "      <td>0</td>\n",
       "      <td>0</td>\n",
       "      <td>0</td>\n",
       "      <td>0</td>\n",
       "      <td>0</td>\n",
       "      <td>1</td>\n",
       "    </tr>\n",
       "    <tr>\n",
       "      <th>542</th>\n",
       "      <td>1750000</td>\n",
       "      <td>3620</td>\n",
       "      <td>2</td>\n",
       "      <td>1</td>\n",
       "      <td>1</td>\n",
       "      <td>1</td>\n",
       "      <td>0</td>\n",
       "      <td>0</td>\n",
       "      <td>0</td>\n",
       "      <td>0</td>\n",
       "      <td>0</td>\n",
       "      <td>0</td>\n",
       "      <td>0</td>\n",
       "    </tr>\n",
       "    <tr>\n",
       "      <th>543</th>\n",
       "      <td>1750000</td>\n",
       "      <td>2910</td>\n",
       "      <td>3</td>\n",
       "      <td>1</td>\n",
       "      <td>1</td>\n",
       "      <td>0</td>\n",
       "      <td>0</td>\n",
       "      <td>0</td>\n",
       "      <td>0</td>\n",
       "      <td>0</td>\n",
       "      <td>0</td>\n",
       "      <td>0</td>\n",
       "      <td>2</td>\n",
       "    </tr>\n",
       "    <tr>\n",
       "      <th>544</th>\n",
       "      <td>1750000</td>\n",
       "      <td>3850</td>\n",
       "      <td>3</td>\n",
       "      <td>1</td>\n",
       "      <td>2</td>\n",
       "      <td>1</td>\n",
       "      <td>0</td>\n",
       "      <td>0</td>\n",
       "      <td>0</td>\n",
       "      <td>0</td>\n",
       "      <td>0</td>\n",
       "      <td>0</td>\n",
       "      <td>0</td>\n",
       "    </tr>\n",
       "  </tbody>\n",
       "</table>\n",
       "<p>545 rows × 13 columns</p>\n",
       "</div>"
      ],
      "text/plain": [
       "        price  area  bedrooms  bathrooms  stories mainroad guestroom basement  \\\n",
       "0    13300000  7420         4          2        3        1         0        0   \n",
       "1    12250000  8960         4          4        4        1         0        0   \n",
       "2    12250000  9960         3          2        2        1         0        1   \n",
       "3    12215000  7500         4          2        2        1         0        1   \n",
       "4    11410000  7420         4          1        2        1         1        1   \n",
       "..        ...   ...       ...        ...      ...      ...       ...      ...   \n",
       "540   1820000  3000         2          1        1        1         0        1   \n",
       "541   1767150  2400         3          1        1        0         0        0   \n",
       "542   1750000  3620         2          1        1        1         0        0   \n",
       "543   1750000  2910         3          1        1        0         0        0   \n",
       "544   1750000  3850         3          1        2        1         0        0   \n",
       "\n",
       "    hotwaterheating airconditioning  parking prefarea furnishingstatus  \n",
       "0                 0               1        2        1                2  \n",
       "1                 0               1        3        0                2  \n",
       "2                 0               0        2        1                1  \n",
       "3                 0               1        3        1                2  \n",
       "4                 0               1        2        0                2  \n",
       "..              ...             ...      ...      ...              ...  \n",
       "540               0               0        2        0                0  \n",
       "541               0               0        0        0                1  \n",
       "542               0               0        0        0                0  \n",
       "543               0               0        0        0                2  \n",
       "544               0               0        0        0                0  \n",
       "\n",
       "[545 rows x 13 columns]"
      ]
     },
     "execution_count": 59,
     "metadata": {},
     "output_type": "execute_result"
    }
   ],
   "source": [
    "data"
   ]
  },
  {
   "cell_type": "code",
   "execution_count": 60,
   "id": "ef662477",
   "metadata": {},
   "outputs": [
    {
     "data": {
      "text/plain": [
       "<AxesSubplot:>"
      ]
     },
     "execution_count": 60,
     "metadata": {},
     "output_type": "execute_result"
    },
    {
     "data": {
      "image/png": "[encoded data removed]",
      "text/plain": [
       "<Figure size 864x576 with 2 Axes>"
      ]
     },
     "metadata": {
      "needs_background": "light"
     },
     "output_type": "display_data"
    }
   ],
   "source": [
    "import matplotlib.pyplot as plt\n",
    "import seaborn as sns\n",
    "\n",
    "correlations = data.corr() \n",
    "correction=abs(correlations)\n",
    "plt.figure(figsize=(12,8))\n",
    "# plt.title('Pearson Correlation of Features',y=1.05,size=15)\n",
    "sns.heatmap(correction,linewidths=0.1,vmax=1.0,\n",
    "            square=True,linecolor='white',annot=True)"
   ]
  },
  {
   "cell_type": "code",
   "execution_count": 61,
   "id": "ee9553a9",
   "metadata": {},
   "outputs": [],
   "source": [
    "import numpy as np\n",
    "x_data = data.loc[:, \"area\":\"furnishingstatus\"]\n",
    "y_data = pd.DataFrame(data.loc[:, \"price\"])"
   ]
  },
  {
   "cell_type": "code",
   "execution_count": 62,
   "id": "9c6917a2",
   "metadata": {},
   "outputs": [],
   "source": [
    "from sklearn.model_selection import train_test_split, cross_val_score"
   ]
  },
  {
   "cell_type": "code",
   "execution_count": 63,
   "id": "6f95b38c",
   "metadata": {},
   "outputs": [],
   "source": [
    "x_train, x_test, y_train, y_test = train_test_split(x_data, y_data, test_size=0.2)"
   ]
  },
  {
   "cell_type": "code",
   "execution_count": 64,
   "id": "dc0e1fae",
   "metadata": {},
   "outputs": [],
   "source": [
    "x_train = x_train.reset_index(drop=True)\n",
    "x_test = x_test.reset_index(drop=True)"
   ]
  },
  {
   "cell_type": "code",
   "execution_count": 65,
   "id": "62e75e2e",
   "metadata": {},
   "outputs": [],
   "source": [
    "from sklearn.preprocessing import StandardScaler"
   ]
  },
  {
   "cell_type": "code",
   "execution_count": 66,
   "id": "2a311ec3",
   "metadata": {},
   "outputs": [],
   "source": [
    "x_train = x_train.values\n",
    "x_test = x_test.values\n",
    "\n",
    "x_train = np.nan_to_num(x_train, copy=False)\n",
    "x_test = np.nan_to_num(x_test, copy=False)\n",
    "\n",
    "scaler = StandardScaler()\n",
    "scaler.fit(x_train)\n",
    "x_train = scaler.transform(x_train)\n",
    "x_test = scaler.transform(x_test)\n",
    "\n",
    "y_train = y_train.values\n",
    "y_test = y_test.values"
   ]
  },
  {
   "cell_type": "code",
   "execution_count": 67,
   "id": "31c244f6",
   "metadata": {},
   "outputs": [
    {
     "data": {
      "text/plain": [
       "((436, 12), (436, 1))"
      ]
     },
     "execution_count": 67,
     "metadata": {},
     "output_type": "execute_result"
    }
   ],
   "source": [
    "x_train.shape, y_train.shape"
   ]
  },
  {
   "cell_type": "code",
   "execution_count": 68,
   "id": "306e2407",
   "metadata": {},
   "outputs": [
    {
     "data": {
      "text/plain": [
       "((109, 12), (109, 1))"
      ]
     },
     "execution_count": 68,
     "metadata": {},
     "output_type": "execute_result"
    }
   ],
   "source": [
    "x_test.shape, y_test.shape"
   ]
  },
  {
   "cell_type": "code",
   "execution_count": 15,
   "id": "678aea28",
   "metadata": {},
   "outputs": [],
   "source": [
    "from sklearn.neighbors import KNeighborsRegressor\n",
    "from sklearn.linear_model import LogisticRegression, LinearRegression\n",
    "from sklearn.discriminant_analysis import LinearDiscriminantAnalysis as LDA\n",
    "from sklearn.discriminant_analysis import QuadraticDiscriminantAnalysis as QDA\n",
    "from sklearn import tree\n",
    "from sklearn.ensemble import RandomForestRegressor\n",
    "from sklearn.svm import SVR\n",
    "from sklearn.ensemble import AdaBoostRegressor"
   ]
  },
  {
   "cell_type": "markdown",
   "id": "59213aaa",
   "metadata": {},
   "source": [
    "## KNN"
   ]
  },
  {
   "cell_type": "code",
   "execution_count": 76,
   "id": "ee6b9357",
   "metadata": {
    "scrolled": false
   },
   "outputs": [
    {
     "name": "stdout",
     "output_type": "stream",
     "text": [
      "0.6329254363132173 4\n"
     ]
    },
    {
     "data": {
      "image/png": "[encoded data removed]",
      "text/plain": [
       "<Figure size 432x288 with 1 Axes>"
      ]
     },
     "metadata": {
      "needs_background": "light"
     },
     "output_type": "display_data"
    }
   ],
   "source": [
    "best_k = []\n",
    "for i in range(1, 20):\n",
    "    knn = KNeighborsRegressor(n_neighbors=i)\n",
    "    knn.fit(x_train, y_train)\n",
    "    knn_pred = knn.predict(x_test)\n",
    "    knn_acc = knn.score(x_test, y_test)\n",
    "    best_k.append(knn_acc)\n",
    "print(max(best_k), np.argmax(best_k))\n",
    "plt.plot(range(1, 20), best_k)\n",
    "plt.xlabel(\"k\")\n",
    "plt.ylabel(\"accuracy\")\n",
    "plt.show()"
   ]
  },
  {
   "cell_type": "code",
   "execution_count": 17,
   "id": "0e741793",
   "metadata": {
    "scrolled": true
   },
   "outputs": [
    {
     "data": {
      "text/plain": [
       "Text(0, 0.5, 'y_test')"
      ]
     },
     "execution_count": 17,
     "metadata": {},
     "output_type": "execute_result"
    },
    {
     "data": {
      "image/png": "[encoded data removed]",
      "text/plain": [
       "<Figure size 432x288 with 1 Axes>"
      ]
     },
     "metadata": {
      "needs_background": "light"
     },
     "output_type": "display_data"
    }
   ],
   "source": [
    "knn = KNeighborsRegressor(n_neighbors=np.argmax(best_k))\n",
    "knn.fit(x_train, y_train)\n",
    "knn_pred = knn.predict(x_test)\n",
    "plt.scatter(knn_pred, y_test)\n",
    "plt.xlabel(\"knn_pred\")\n",
    "plt.ylabel(\"y_test\")"
   ]
  },
  {
   "cell_type": "markdown",
   "id": "212d7c81",
   "metadata": {},
   "source": [
    "## Linear Regression"
   ]
  },
  {
   "cell_type": "code",
   "execution_count": 18,
   "id": "754706da",
   "metadata": {},
   "outputs": [
    {
     "name": "stdout",
     "output_type": "stream",
     "text": [
      "0.5511863746294404\n"
     ]
    },
    {
     "data": {
      "text/plain": [
       "Text(0, 0.5, 'y_test')"
      ]
     },
     "execution_count": 18,
     "metadata": {},
     "output_type": "execute_result"
    },
    {
     "data": {
      "image/png": "[encoded data removed]",
      "text/plain": [
       "<Figure size 432x288 with 1 Axes>"
      ]
     },
     "metadata": {
      "needs_background": "light"
     },
     "output_type": "display_data"
    }
   ],
   "source": [
    "lin_reg = LinearRegression()\n",
    "lin_reg.fit(x_train, y_train)\n",
    "linr_pred = lin_reg.predict(x_test)\n",
    "linr_acc = knn.score(x_test, y_test)\n",
    "print(linr_acc)\n",
    "\n",
    "plt.scatter(linr_pred, y_test)\n",
    "plt.xlabel(\"linr_pred\")\n",
    "plt.ylabel(\"y_test\")"
   ]
  },
  {
   "cell_type": "markdown",
   "id": "5d87b45e",
   "metadata": {},
   "source": [
    "## Logistic Regression"
   ]
  },
  {
   "cell_type": "code",
   "execution_count": 19,
   "id": "31c00272",
   "metadata": {},
   "outputs": [
    {
     "name": "stdout",
     "output_type": "stream",
     "text": [
      "0.009174311926605505\n"
     ]
    },
    {
     "data": {
      "text/plain": [
       "Text(0, 0.5, 'y_test')"
      ]
     },
     "execution_count": 19,
     "metadata": {},
     "output_type": "execute_result"
    },
    {
     "data": {
      "image/png": "[encoded data removed]",
      "text/plain": [
       "<Figure size 432x288 with 1 Axes>"
      ]
     },
     "metadata": {
      "needs_background": "light"
     },
     "output_type": "display_data"
    }
   ],
   "source": [
    "log_reg = LogisticRegression()\n",
    "log_reg.fit(x_train, y_train)\n",
    "logr_pred = log_reg.predict(x_test)\n",
    "logr_acc = log_reg.score(x_test, y_test)\n",
    "print(logr_acc)\n",
    "\n",
    "plt.scatter(logr_pred, y_test)\n",
    "plt.xlabel(\"logr_pred\")\n",
    "plt.ylabel(\"y_test\")"
   ]
  },
  {
   "cell_type": "markdown",
   "id": "c686b545",
   "metadata": {},
   "source": [
    "## LDA"
   ]
  },
  {
   "cell_type": "code",
   "execution_count": 20,
   "id": "5eca725b",
   "metadata": {
    "scrolled": true
   },
   "outputs": [
    {
     "name": "stdout",
     "output_type": "stream",
     "text": [
      "0.009174311926605505\n"
     ]
    },
    {
     "data": {
      "text/plain": [
       "Text(0, 0.5, 'y_test')"
      ]
     },
     "execution_count": 20,
     "metadata": {},
     "output_type": "execute_result"
    },
    {
     "data": {
      "image/png": "[encoded data removed]",
      "text/plain": [
       "<Figure size 432x288 with 1 Axes>"
      ]
     },
     "metadata": {
      "needs_background": "light"
     },
     "output_type": "display_data"
    }
   ],
   "source": [
    "lda = LDA(n_components=1)\n",
    "lda.fit(x_train, y_train)\n",
    "lda_pred = lda.predict(x_test)\n",
    "lda_acc = lda.score(x_test, y_test)\n",
    "print(lda_acc)\n",
    "\n",
    "plt.scatter(lda_pred, y_test)\n",
    "plt.xlabel(\"lda_pred\")\n",
    "plt.ylabel(\"y_test\")"
   ]
  },
  {
   "cell_type": "markdown",
   "id": "d901363c",
   "metadata": {},
   "source": [
    "## Decision Tree"
   ]
  },
  {
   "cell_type": "code",
   "execution_count": 21,
   "id": "96479196",
   "metadata": {},
   "outputs": [
    {
     "name": "stdout",
     "output_type": "stream",
     "text": [
      "0.08377082017645554\n"
     ]
    },
    {
     "data": {
      "text/plain": [
       "Text(0, 0.5, 'y_test')"
      ]
     },
     "execution_count": 21,
     "metadata": {},
     "output_type": "execute_result"
    },
    {
     "data": {
      "image/png": "[encoded data removed]",
      "text/plain": [
       "<Figure size 432x288 with 1 Axes>"
      ]
     },
     "metadata": {
      "needs_background": "light"
     },
     "output_type": "display_data"
    }
   ],
   "source": [
    "dt = tree.DecisionTreeRegressor(criterion=\"squared_error\")\n",
    "dt.fit(x_train, y_train)\n",
    "dt_pred = dt.predict(x_test)\n",
    "dt_acc = dt.score(x_test, y_test)\n",
    "print(dt_acc)\n",
    "\n",
    "plt.scatter(dt_pred, y_test)\n",
    "plt.xlabel(\"dt_pred\")\n",
    "plt.ylabel(\"y_test\")"
   ]
  },
  {
   "cell_type": "markdown",
   "id": "6eb76424",
   "metadata": {},
   "source": [
    "## Random Forest"
   ]
  },
  {
   "cell_type": "code",
   "execution_count": 22,
   "id": "66ea4fcc",
   "metadata": {
    "scrolled": false
   },
   "outputs": [
    {
     "name": "stdout",
     "output_type": "stream",
     "text": [
      "best_acc:  0.5613282986787436  best_dep:  5  best_est: 9\n"
     ]
    },
    {
     "data": {
      "text/plain": [
       "Text(0, 0.5, 'y_test')"
      ]
     },
     "execution_count": 22,
     "metadata": {},
     "output_type": "execute_result"
    },
    {
     "data": {
      "image/png": "[encoded data removed]",
      "text/plain": [
       "<Figure size 432x288 with 1 Axes>"
      ]
     },
     "metadata": {
      "needs_background": "light"
     },
     "output_type": "display_data"
    }
   ],
   "source": [
    "best_acc = 0\n",
    "best_est = 0\n",
    "best_dep = 0\n",
    "best_pred = []\n",
    "max\n",
    "for i in range(1,10):\n",
    "    for j in range(1, 10):\n",
    "        rf = RandomForestRegressor(n_estimators=i, max_depth=j)\n",
    "        rf.fit(x_train, y_train)\n",
    "        rf_pred = rf.predict(x_test)\n",
    "        rf_acc = rf.score(x_test, y_test).mean()\n",
    "        if rf_acc > best_acc:\n",
    "            best_acc = rf_acc\n",
    "            best_dep = j\n",
    "            best_est = i\n",
    "            best_pred = rf_pred\n",
    "\n",
    "print(\"best_acc: \", best_acc, \" best_dep: \", best_dep, \" best_est:\", best_est)\n",
    "plt.scatter(best_pred, y_test)\n",
    "plt.xlabel(\"dt_pred\")\n",
    "plt.ylabel(\"y_test\")"
   ]
  },
  {
   "cell_type": "markdown",
   "id": "4b83ed2c",
   "metadata": {},
   "source": [
    "## SVM"
   ]
  },
  {
   "cell_type": "code",
   "execution_count": 23,
   "id": "482810fd",
   "metadata": {
    "scrolled": true
   },
   "outputs": [
    {
     "name": "stdout",
     "output_type": "stream",
     "text": [
      "-0.04429115533787664\n"
     ]
    },
    {
     "data": {
      "text/plain": [
       "Text(0, 0.5, 'y_test')"
      ]
     },
     "execution_count": 23,
     "metadata": {},
     "output_type": "execute_result"
    },
    {
     "data": {
      "image/png": "[encoded data removed]",
      "text/plain": [
       "<Figure size 432x288 with 1 Axes>"
      ]
     },
     "metadata": {
      "needs_background": "light"
     },
     "output_type": "display_data"
    }
   ],
   "source": [
    "svm = SVR(kernel=\"linear\")\n",
    "svm.fit(x_train, y_train)\n",
    "svm_pred = svm.predict(x_test)\n",
    "svm_acc = svm.score(x_test, y_test)\n",
    "print(svm_acc)\n",
    "\n",
    "plt.scatter(svm_pred, y_test)\n",
    "plt.xlabel(\"svm_pred\")\n",
    "plt.ylabel(\"y_test\")"
   ]
  },
  {
   "cell_type": "code",
   "execution_count": 24,
   "id": "4cc6d2ae",
   "metadata": {},
   "outputs": [
    {
     "name": "stdout",
     "output_type": "stream",
     "text": [
      "-0.044881705079622414\n"
     ]
    },
    {
     "data": {
      "text/plain": [
       "Text(0, 0.5, 'y_test')"
      ]
     },
     "execution_count": 24,
     "metadata": {},
     "output_type": "execute_result"
    },
    {
     "data": {
      "image/png": "[encoded data removed]",
      "text/plain": [
       "<Figure size 432x288 with 1 Axes>"
      ]
     },
     "metadata": {
      "needs_background": "light"
     },
     "output_type": "display_data"
    }
   ],
   "source": [
    "svm_g = SVR(kernel=\"rbf\")\n",
    "svm_g.fit(x_train, y_train)\n",
    "svm_g_pred = svm_g.predict(x_test)\n",
    "svm_g_acc = svm_g.score(x_test, y_test)\n",
    "print(svm_g_acc)\n",
    "\n",
    "plt.scatter(svm_g_pred, y_test)\n",
    "plt.xlabel(\"svm_g_pred\")\n",
    "plt.ylabel(\"y_test\")"
   ]
  },
  {
   "cell_type": "code",
   "execution_count": 25,
   "id": "46ddee76",
   "metadata": {},
   "outputs": [
    {
     "name": "stdout",
     "output_type": "stream",
     "text": [
      "-0.044890941478375135\n"
     ]
    },
    {
     "data": {
      "text/plain": [
       "Text(0, 0.5, 'y_test')"
      ]
     },
     "execution_count": 25,
     "metadata": {},
     "output_type": "execute_result"
    },
    {
     "data": {
      "image/png": "[encoded data removed]",
      "text/plain": [
       "<Figure size 432x288 with 1 Axes>"
      ]
     },
     "metadata": {
      "needs_background": "light"
     },
     "output_type": "display_data"
    }
   ],
   "source": [
    "svm_p2 = SVR(kernel=\"poly\", degree=2)\n",
    "svm_p2.fit(x_train, y_train)\n",
    "svm_p2_pred = svm_p2.predict(x_test)\n",
    "svm_p2_acc = svm_p2.score(x_test, y_test)\n",
    "print(svm_p2_acc)\n",
    "\n",
    "plt.scatter(svm_p2_pred, y_test)\n",
    "plt.xlabel(\"svm_p2_pred\")\n",
    "plt.ylabel(\"y_test\")"
   ]
  },
  {
   "cell_type": "markdown",
   "id": "d4271884",
   "metadata": {},
   "source": [
    "## AdaBoost"
   ]
  },
  {
   "cell_type": "code",
   "execution_count": 26,
   "id": "0b016824",
   "metadata": {},
   "outputs": [
    {
     "name": "stdout",
     "output_type": "stream",
     "text": [
      "0.4915349110758763\n"
     ]
    },
    {
     "data": {
      "text/plain": [
       "Text(0, 0.5, 'y_test')"
      ]
     },
     "execution_count": 26,
     "metadata": {},
     "output_type": "execute_result"
    },
    {
     "data": {
      "image/png": "[encoded data removed]",
      "text/plain": [
       "<Figure size 432x288 with 1 Axes>"
      ]
     },
     "metadata": {
      "needs_background": "light"
     },
     "output_type": "display_data"
    }
   ],
   "source": [
    "ada = AdaBoostRegressor()\n",
    "ada.fit(x_train, y_train)\n",
    "ada_pred = ada.predict(x_test)\n",
    "ada_acc = ada.score(x_test, y_test)\n",
    "print(ada_acc)\n",
    "\n",
    "plt.scatter(ada_pred, y_test)\n",
    "plt.xlabel(\"ada_pred\")\n",
    "plt.ylabel(\"y_test\")"
   ]
  },
  {
   "cell_type": "markdown",
   "id": "a0a12a9e",
   "metadata": {},
   "source": [
    "## Comparison"
   ]
  },
  {
   "cell_type": "code",
   "execution_count": 27,
   "id": "851506e3",
   "metadata": {
    "scrolled": true
   },
   "outputs": [
    {
     "data": {
      "image/png": "[encoded data removed]",
      "text/plain": [
       "<Figure size 432x288 with 1 Axes>"
      ]
     },
     "metadata": {
      "needs_background": "light"
     },
     "output_type": "display_data"
    }
   ],
   "source": [
    "dict = {\"knn\": knn_acc,\n",
    "       \"linear regression\": linr_acc,\n",
    "       \"logistic regression\": logr_acc,\n",
    "       \"lda\": lda_acc,\n",
    "       \"decision tree\": dt_acc,\n",
    "       \"random forest\": best_acc,\n",
    "       \"svm\": svm_acc,\n",
    "       \"svm_gaussian\": svm_g_acc,\n",
    "       \"svm_poly_2\": svm_p2_acc,\n",
    "       \"adaboost\": ada_acc}\n",
    "plt.bar(dict.keys(), dict.values())\n",
    "for a,b in dict.items():\n",
    "    plt.annotate('(%s,%s)'%(a,b),xy=(a,b),xytext=(-20,10),\n",
    "                 textcoords='offset points')"
   ]
  },
  {
   "cell_type": "markdown",
   "id": "9c3bc4e0",
   "metadata": {},
   "source": [
    "## Final Prediction Value"
   ]
  },
  {
   "cell_type": "code",
   "execution_count": 34,
   "id": "1e6aa31d",
   "metadata": {},
   "outputs": [
    {
     "data": {
      "text/plain": [
       "Index(['price', 'area', 'bedrooms', 'bathrooms', 'stories', 'mainroad',\n",
       "       'guestroom', 'basement', 'hotwaterheating', 'airconditioning',\n",
       "       'parking', 'prefarea', 'furnishingstatus'],\n",
       "      dtype='object')"
      ]
     },
     "execution_count": 34,
     "metadata": {},
     "output_type": "execute_result"
    }
   ],
   "source": [
    "data.columns"
   ]
  },
  {
   "cell_type": "code",
   "execution_count": 41,
   "id": "04aa633d",
   "metadata": {},
   "outputs": [
    {
     "data": {
      "text/html": [
       "<div>\n",
       "<style scoped>\n",
       "    .dataframe tbody tr th:only-of-type {\n",
       "        vertical-align: middle;\n",
       "    }\n",
       "\n",
       "    .dataframe tbody tr th {\n",
       "        vertical-align: top;\n",
       "    }\n",
       "\n",
       "    .dataframe thead th {\n",
       "        text-align: right;\n",
       "    }\n",
       "</style>\n",
       "<table border=\"1\" class=\"dataframe\">\n",
       "  <thead>\n",
       "    <tr style=\"text-align: right;\">\n",
       "      <th></th>\n",
       "      <th>area</th>\n",
       "      <th>bedrooms</th>\n",
       "      <th>bathrooms</th>\n",
       "      <th>stories</th>\n",
       "      <th>mainroad</th>\n",
       "      <th>guestroom</th>\n",
       "      <th>basement</th>\n",
       "      <th>hotwaterheating</th>\n",
       "      <th>airconditioning</th>\n",
       "      <th>parking</th>\n",
       "      <th>prefarea</th>\n",
       "      <th>furnishingstatus</th>\n",
       "      <th>price</th>\n",
       "      <th>predict</th>\n",
       "    </tr>\n",
       "  </thead>\n",
       "  <tbody>\n",
       "    <tr>\n",
       "      <th>0</th>\n",
       "      <td>0.619910</td>\n",
       "      <td>0.049317</td>\n",
       "      <td>1.391175</td>\n",
       "      <td>2.587257</td>\n",
       "      <td>0.399468</td>\n",
       "      <td>-0.481288</td>\n",
       "      <td>-0.753887</td>\n",
       "      <td>-0.213456</td>\n",
       "      <td>1.461742</td>\n",
       "      <td>1.456524</td>\n",
       "      <td>-0.559690</td>\n",
       "      <td>-1.234299</td>\n",
       "      <td>7700000</td>\n",
       "      <td>8.153935e+06</td>\n",
       "    </tr>\n",
       "    <tr>\n",
       "      <th>1</th>\n",
       "      <td>0.935090</td>\n",
       "      <td>0.049317</td>\n",
       "      <td>1.391175</td>\n",
       "      <td>-0.915985</td>\n",
       "      <td>0.399468</td>\n",
       "      <td>2.077757</td>\n",
       "      <td>1.326459</td>\n",
       "      <td>-0.213456</td>\n",
       "      <td>1.461742</td>\n",
       "      <td>1.456524</td>\n",
       "      <td>-0.559690</td>\n",
       "      <td>-1.234299</td>\n",
       "      <td>8680000</td>\n",
       "      <td>7.776480e+06</td>\n",
       "    </tr>\n",
       "    <tr>\n",
       "      <th>2</th>\n",
       "      <td>2.198144</td>\n",
       "      <td>0.049317</td>\n",
       "      <td>-0.578151</td>\n",
       "      <td>-0.915985</td>\n",
       "      <td>0.399468</td>\n",
       "      <td>-0.481288</td>\n",
       "      <td>-0.753887</td>\n",
       "      <td>-0.213456</td>\n",
       "      <td>-0.684115</td>\n",
       "      <td>-0.823707</td>\n",
       "      <td>-0.559690</td>\n",
       "      <td>0.101072</td>\n",
       "      <td>4515000</td>\n",
       "      <td>4.751414e+06</td>\n",
       "    </tr>\n",
       "    <tr>\n",
       "      <th>3</th>\n",
       "      <td>-0.257924</td>\n",
       "      <td>1.393205</td>\n",
       "      <td>-0.578151</td>\n",
       "      <td>0.251762</td>\n",
       "      <td>0.399468</td>\n",
       "      <td>-0.481288</td>\n",
       "      <td>-0.753887</td>\n",
       "      <td>-0.213456</td>\n",
       "      <td>-0.684115</td>\n",
       "      <td>-0.823707</td>\n",
       "      <td>-0.559690</td>\n",
       "      <td>0.101072</td>\n",
       "      <td>3500000</td>\n",
       "      <td>4.279936e+06</td>\n",
       "    </tr>\n",
       "    <tr>\n",
       "      <th>4</th>\n",
       "      <td>0.605902</td>\n",
       "      <td>0.049317</td>\n",
       "      <td>1.391175</td>\n",
       "      <td>-0.915985</td>\n",
       "      <td>0.399468</td>\n",
       "      <td>2.077757</td>\n",
       "      <td>1.326459</td>\n",
       "      <td>4.684802</td>\n",
       "      <td>-0.684115</td>\n",
       "      <td>-0.823707</td>\n",
       "      <td>-0.559690</td>\n",
       "      <td>-1.234299</td>\n",
       "      <td>5383000</td>\n",
       "      <td>5.668840e+06</td>\n",
       "    </tr>\n",
       "    <tr>\n",
       "      <th>...</th>\n",
       "      <td>...</td>\n",
       "      <td>...</td>\n",
       "      <td>...</td>\n",
       "      <td>...</td>\n",
       "      <td>...</td>\n",
       "      <td>...</td>\n",
       "      <td>...</td>\n",
       "      <td>...</td>\n",
       "      <td>...</td>\n",
       "      <td>...</td>\n",
       "      <td>...</td>\n",
       "      <td>...</td>\n",
       "      <td>...</td>\n",
       "      <td>...</td>\n",
       "    </tr>\n",
       "    <tr>\n",
       "      <th>104</th>\n",
       "      <td>-1.343543</td>\n",
       "      <td>0.049317</td>\n",
       "      <td>-0.578151</td>\n",
       "      <td>1.419509</td>\n",
       "      <td>0.399468</td>\n",
       "      <td>-0.481288</td>\n",
       "      <td>-0.753887</td>\n",
       "      <td>4.684802</td>\n",
       "      <td>1.461742</td>\n",
       "      <td>-0.823707</td>\n",
       "      <td>1.786703</td>\n",
       "      <td>0.101072</td>\n",
       "      <td>3640000</td>\n",
       "      <td>4.070909e+06</td>\n",
       "    </tr>\n",
       "    <tr>\n",
       "      <th>105</th>\n",
       "      <td>-0.934977</td>\n",
       "      <td>-1.294571</td>\n",
       "      <td>1.391175</td>\n",
       "      <td>-0.915985</td>\n",
       "      <td>-2.503331</td>\n",
       "      <td>-0.481288</td>\n",
       "      <td>1.326459</td>\n",
       "      <td>-0.213456</td>\n",
       "      <td>-0.684115</td>\n",
       "      <td>-0.823707</td>\n",
       "      <td>-0.559690</td>\n",
       "      <td>0.101072</td>\n",
       "      <td>3815000</td>\n",
       "      <td>3.957796e+06</td>\n",
       "    </tr>\n",
       "    <tr>\n",
       "      <th>106</th>\n",
       "      <td>-0.762211</td>\n",
       "      <td>0.049317</td>\n",
       "      <td>-0.578151</td>\n",
       "      <td>-0.915985</td>\n",
       "      <td>0.399468</td>\n",
       "      <td>-0.481288</td>\n",
       "      <td>-0.753887</td>\n",
       "      <td>-0.213456</td>\n",
       "      <td>-0.684115</td>\n",
       "      <td>-0.823707</td>\n",
       "      <td>1.786703</td>\n",
       "      <td>0.101072</td>\n",
       "      <td>4550000</td>\n",
       "      <td>3.737145e+06</td>\n",
       "    </tr>\n",
       "    <tr>\n",
       "      <th>107</th>\n",
       "      <td>-1.285176</td>\n",
       "      <td>0.049317</td>\n",
       "      <td>-0.578151</td>\n",
       "      <td>-0.915985</td>\n",
       "      <td>-2.503331</td>\n",
       "      <td>-0.481288</td>\n",
       "      <td>-0.753887</td>\n",
       "      <td>-0.213456</td>\n",
       "      <td>-0.684115</td>\n",
       "      <td>-0.823707</td>\n",
       "      <td>-0.559690</td>\n",
       "      <td>0.101072</td>\n",
       "      <td>1767150</td>\n",
       "      <td>3.382346e+06</td>\n",
       "    </tr>\n",
       "    <tr>\n",
       "      <th>108</th>\n",
       "      <td>1.054158</td>\n",
       "      <td>0.049317</td>\n",
       "      <td>-0.578151</td>\n",
       "      <td>-0.915985</td>\n",
       "      <td>0.399468</td>\n",
       "      <td>2.077757</td>\n",
       "      <td>1.326459</td>\n",
       "      <td>-0.213456</td>\n",
       "      <td>1.461742</td>\n",
       "      <td>1.456524</td>\n",
       "      <td>1.786703</td>\n",
       "      <td>-1.234299</td>\n",
       "      <td>6475000</td>\n",
       "      <td>5.666390e+06</td>\n",
       "    </tr>\n",
       "  </tbody>\n",
       "</table>\n",
       "<p>109 rows × 14 columns</p>\n",
       "</div>"
      ],
      "text/plain": [
       "         area  bedrooms  bathrooms   stories  mainroad  guestroom  basement  \\\n",
       "0    0.619910  0.049317   1.391175  2.587257  0.399468  -0.481288 -0.753887   \n",
       "1    0.935090  0.049317   1.391175 -0.915985  0.399468   2.077757  1.326459   \n",
       "2    2.198144  0.049317  -0.578151 -0.915985  0.399468  -0.481288 -0.753887   \n",
       "3   -0.257924  1.393205  -0.578151  0.251762  0.399468  -0.481288 -0.753887   \n",
       "4    0.605902  0.049317   1.391175 -0.915985  0.399468   2.077757  1.326459   \n",
       "..        ...       ...        ...       ...       ...        ...       ...   \n",
       "104 -1.343543  0.049317  -0.578151  1.419509  0.399468  -0.481288 -0.753887   \n",
       "105 -0.934977 -1.294571   1.391175 -0.915985 -2.503331  -0.481288  1.326459   \n",
       "106 -0.762211  0.049317  -0.578151 -0.915985  0.399468  -0.481288 -0.753887   \n",
       "107 -1.285176  0.049317  -0.578151 -0.915985 -2.503331  -0.481288 -0.753887   \n",
       "108  1.054158  0.049317  -0.578151 -0.915985  0.399468   2.077757  1.326459   \n",
       "\n",
       "     hotwaterheating  airconditioning   parking  prefarea  furnishingstatus  \\\n",
       "0          -0.213456         1.461742  1.456524 -0.559690         -1.234299   \n",
       "1          -0.213456         1.461742  1.456524 -0.559690         -1.234299   \n",
       "2          -0.213456        -0.684115 -0.823707 -0.559690          0.101072   \n",
       "3          -0.213456        -0.684115 -0.823707 -0.559690          0.101072   \n",
       "4           4.684802        -0.684115 -0.823707 -0.559690         -1.234299   \n",
       "..               ...              ...       ...       ...               ...   \n",
       "104         4.684802         1.461742 -0.823707  1.786703          0.101072   \n",
       "105        -0.213456        -0.684115 -0.823707 -0.559690          0.101072   \n",
       "106        -0.213456        -0.684115 -0.823707  1.786703          0.101072   \n",
       "107        -0.213456        -0.684115 -0.823707 -0.559690          0.101072   \n",
       "108        -0.213456         1.461742  1.456524  1.786703         -1.234299   \n",
       "\n",
       "       price       predict  \n",
       "0    7700000  8.153935e+06  \n",
       "1    8680000  7.776480e+06  \n",
       "2    4515000  4.751414e+06  \n",
       "3    3500000  4.279936e+06  \n",
       "4    5383000  5.668840e+06  \n",
       "..       ...           ...  \n",
       "104  3640000  4.070909e+06  \n",
       "105  3815000  3.957796e+06  \n",
       "106  4550000  3.737145e+06  \n",
       "107  1767150  3.382346e+06  \n",
       "108  6475000  5.666390e+06  \n",
       "\n",
       "[109 rows x 14 columns]"
      ]
     },
     "execution_count": 41,
     "metadata": {},
     "output_type": "execute_result"
    }
   ],
   "source": [
    "result = pd.DataFrame(data=x_test,\n",
    "            columns = ['area', 'bedrooms', 'bathrooms', 'stories', 'mainroad',\n",
    "       'guestroom', 'basement', 'hotwaterheating', 'airconditioning',\n",
    "       'parking', 'prefarea', 'furnishingstatus'])\n",
    "result[\"price\"] = y_test\n",
    "result[\"predict\"] = best_pred\n",
    "result"
   ]
  }
 ],
 "metadata": {
  "kernelspec": {
   "display_name": "Python 3 (ipykernel)",
   "language": "python",
   "name": "python3"
  },
  "language_info": {
   "codemirror_mode": {
    "name": "ipython",
    "version": 3
   },
   "file_extension": ".py",
   "mimetype": "text/x-python",
   "name": "python",
   "nbconvert_exporter": "python",
   "pygments_lexer": "ipython3",
   "version": "3.9.7"
  }
 },
 "nbformat": 4,
 "nbformat_minor": 5
}
